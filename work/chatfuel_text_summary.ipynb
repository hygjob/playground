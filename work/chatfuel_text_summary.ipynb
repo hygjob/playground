{
 "cells": [
  {
   "cell_type": "markdown",
   "metadata": {},
   "source": [
    "# 제목: chatfuel 을 이용한 문서 요약"
   ]
  },
  {
   "cell_type": "markdown",
   "metadata": {},
   "source": [
    "- 추천 OS: ubuntu 14.04 이상\n",
    "- python 3 이상"
   ]
  },
  {
   "attachments": {},
   "cell_type": "markdown",
   "metadata": {},
   "source": [
    "### chatfuel 구성"
   ]
  },
  {
   "cell_type": "markdown",
   "metadata": {},
   "source": [
    "'사용서버주소'에는 실제서버주소를 넣으면 됨.\n",
    "\n",
    "{{user_msg}} 로 사용자 입력을 전달함. \n",
    "\n",
    "파란색표시의 user_msg에는 {{user_msg}}를 입력한 것임.\n",
    "\n"
   ]
  },
  {
   "cell_type": "markdown",
   "metadata": {},
   "source": [
    "!['chatfuel config'](chatfuel_config.png)"
   ]
  },
  {
   "cell_type": "markdown",
   "metadata": {},
   "source": [
    "\n",
    "## 미리 설치 필요\n",
    "- flask\n",
    "- flask_restful\n",
    "- lexrankr\n"
   ]
  },
  {
   "cell_type": "markdown",
   "metadata": {},
   "source": [
    "## 요약 서버 코드"
   ]
  },
  {
   "cell_type": "code",
   "execution_count": null,
   "metadata": {},
   "outputs": [],
   "source": [
    "from __future__ import print_function\n",
    "from flask import Flask, request\n",
    "from flask_restful import Resource, Api, reqparse, abort\n",
    "from lexrankr import LexRank\n",
    "'''\n",
    "목적: 한국어 문장 요약\n",
    "참조: LexRank for Korean / https://github.com/theeluwin/lexrankr\n",
    "'''\n",
    "\n",
    "app = Flask(__name__)\n",
    "api = Api(app)\n",
    "\n",
    "def on_json_loading_failed_return_dict(e):  \n",
    "    return {} \n",
    "\n",
    "class Summary(Resource):\n",
    "    def post(self):\n",
    "        request.on_json_loading_failed = on_json_loading_failed_return_dict\n",
    "        req_json = request.get_json()\n",
    "        msg = req_json['user_msg']\n",
    "        #print(msg)\n",
    "        \n",
    "        lexrank = LexRank()\n",
    "        lexrank.summarize(msg)\n",
    "        summaries = lexrank.probe()\n",
    "        result = '/'.join(summaries)\n",
    "        #print(result)\n",
    "        # 아래 부분은 chatfuel의 문서를 참고하여 리턴형식에 맞추어줘야 함.\n",
    "        # 아래와 같이 구성해야 채팅창에 요약한 응답이 감\n",
    "        return {\"messages\":[{\"text\" : result}]}\n",
    "\n",
    "    def get(self):\n",
    "        return {'resut': 'ok'}\n",
    "\n",
    "api.add_resource(Summary, '/summary')\n",
    " \n",
    "if __name__ == '__main__':\n",
    "    app.run(host='0.0.0.0', port=8000, debug=True)\n",
    "\n"
   ]
  }
 ],
 "metadata": {
  "kernelspec": {
   "display_name": "Python 3",
   "language": "python",
   "name": "python3"
  },
  "language_info": {
   "codemirror_mode": {
    "name": "ipython",
    "version": 3
   },
   "file_extension": ".py",
   "mimetype": "text/x-python",
   "name": "python",
   "nbconvert_exporter": "python",
   "pygments_lexer": "ipython3",
   "version": "3.6.2"
  }
 },
 "nbformat": 4,
 "nbformat_minor": 2
}
